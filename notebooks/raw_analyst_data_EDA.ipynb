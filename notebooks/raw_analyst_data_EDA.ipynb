{
 "cells": [
  {
   "cell_type": "markdown",
   "id": "f13b7ec9-0a98-4e82-87e8-4c8a99a87a77",
   "metadata": {},
   "source": [
    "# Analysis Plan for Raw Analyst Ratings Data\n",
    "\n",
    "In this section, I will perform an exploratory data analysis (EDA) on the `raw_analyst_ratings` dataset, which includes the following columns: `headline`, `url`, `publisher`, `date`, and `stock`. The analysis will focus on the following objectives:\n",
    "\n",
    "1. **Descriptive Statistics**:\n",
    "   - Calculate the length of each headline to understand the structure of the data.\n",
    "   - Count the number of articles contributed by each publisher to identify the most active sources.\n",
    "   - Analyze publication dates to observe trends over time, including increased news frequency on specific days.\n",
    "\n",
    "2. **Text Analysis (Topic Modeling)**:\n",
    "   - Utilize natural language processing techniques to extract common keywords and phrases from the headlines. This will help in identifying significant topics or events mentioned in the articles.\n",
    "\n",
    "3. **Time Series Analysis**:\n",
    "   - Examine how the publication frequency varies over time, looking for spikes in article publications that may correlate with specific market events.\n",
    "   - Analyze the times at which articles are published to determine if there are patterns that could be valuable for traders.\n",
    "\n",
    "4. **Publisher Analysis**:\n",
    "   - Identify which publishers contribute most significantly to the news feed and assess any differences in the types of news they report.\n",
    "   - If applicable, analyze unique domains from publisher names to see if certain organizations are more frequent contributors.\n",
    "\n",
    "This analysis aims to provide insights into the relationship between analyst ratings and stock performance, enhancing our understanding of market sentiment."
   ]
  },
  {
   "cell_type": "code",
   "execution_count": 1,
   "id": "ff132d42-f92b-4a49-a70f-4596d526d2b8",
   "metadata": {},
   "outputs": [],
   "source": [
    "import pandas as pd\n",
    "\n",
    "analyst_ratings = pd.read_csv('../data/raw_analyst_ratings.csv')"
   ]
  },
  {
   "cell_type": "code",
   "execution_count": 2,
   "id": "7ed1802b-4447-4126-b939-eeba6ae1d85e",
   "metadata": {},
   "outputs": [
    {
     "name": "stdout",
     "output_type": "stream",
     "text": [
      "   Unnamed: 0                                           headline  \\\n",
      "0           0            Stocks That Hit 52-Week Highs On Friday   \n",
      "1           1         Stocks That Hit 52-Week Highs On Wednesday   \n",
      "2           2                      71 Biggest Movers From Friday   \n",
      "3           3       46 Stocks Moving In Friday's Mid-Day Session   \n",
      "4           4  B of A Securities Maintains Neutral on Agilent...   \n",
      "\n",
      "                                                 url          publisher  \\\n",
      "0  https://www.benzinga.com/news/20/06/16190091/s...  Benzinga Insights   \n",
      "1  https://www.benzinga.com/news/20/06/16170189/s...  Benzinga Insights   \n",
      "2  https://www.benzinga.com/news/20/05/16103463/7...         Lisa Levin   \n",
      "3  https://www.benzinga.com/news/20/05/16095921/4...         Lisa Levin   \n",
      "4  https://www.benzinga.com/news/20/05/16095304/b...         Vick Meyer   \n",
      "\n",
      "                        date stock  \n",
      "0  2020-06-05 10:30:54-04:00     A  \n",
      "1  2020-06-03 10:45:20-04:00     A  \n",
      "2  2020-05-26 04:30:07-04:00     A  \n",
      "3  2020-05-22 12:45:06-04:00     A  \n",
      "4  2020-05-22 11:38:59-04:00     A  \n",
      "<class 'pandas.core.frame.DataFrame'>\n",
      "RangeIndex: 1407328 entries, 0 to 1407327\n",
      "Data columns (total 6 columns):\n",
      " #   Column      Non-Null Count    Dtype \n",
      "---  ------      --------------    ----- \n",
      " 0   Unnamed: 0  1407328 non-null  int64 \n",
      " 1   headline    1407328 non-null  object\n",
      " 2   url         1407328 non-null  object\n",
      " 3   publisher   1407328 non-null  object\n",
      " 4   date        1407328 non-null  object\n",
      " 5   stock       1407328 non-null  object\n",
      "dtypes: int64(1), object(5)\n",
      "memory usage: 64.4+ MB\n",
      "None\n",
      "         Unnamed: 0\n",
      "count  1.407328e+06\n",
      "mean   7.072454e+05\n",
      "std    4.081009e+05\n",
      "min    0.000000e+00\n",
      "25%    3.538128e+05\n",
      "50%    7.072395e+05\n",
      "75%    1.060710e+06\n",
      "max    1.413848e+06\n"
     ]
    }
   ],
   "source": [
    "print(analyst_ratings.head())\n",
    "print(analyst_ratings.info())\n",
    "print(analyst_ratings.describe())\n"
   ]
  },
  {
   "cell_type": "markdown",
   "id": "0533313e-4a4d-4797-9cc4-7bed0f4c8896",
   "metadata": {},
   "source": [
    "*Descriptive Statistics:\n",
    "Headline Lengths: Calculate the length of each headline.\n",
    "Articles per Publisher: Count the number of articles contributed by each publisher.\n",
    "Publication Dates: Analyze publication frequency over time."
   ]
  },
  {
   "cell_type": "code",
   "execution_count": 3,
   "id": "cbc9e401-0199-406b-af79-2e78c18df04b",
   "metadata": {},
   "outputs": [],
   "source": [
    "analyst_ratings['headline_length'] = analyst_ratings['headline'].apply(len)\n",
    "articles_per_publisher = analyst_ratings['publisher'].value_counts()\n",
    "publication_trends = analyst_ratings['date'].value_counts()"
   ]
  },
  {
   "cell_type": "markdown",
   "id": "c775a109-5d09-441f-be13-873703b1f583",
   "metadata": {},
   "source": [
    "*Text Analysis (Topic Modeling):\n",
    "Use NLP techniques to identify common keywords or phrases from the headlines."
   ]
  },
  {
   "cell_type": "code",
   "execution_count": 6,
   "id": "ca5b1463-83a9-4340-99a3-dbd0fd970ba4",
   "metadata": {},
   "outputs": [
    {
     "name": "stdout",
     "output_type": "stream",
     "text": [
      "[('vs', np.int64(162099)), ('stocks', np.int64(161776)), ('est', np.int64(140604)), ('eps', np.int64(128897)), ('market', np.int64(120558)), ('shares', np.int64(114313)), ('reports', np.int64(108710)), ('update', np.int64(91723)), ('earnings', np.int64(87399)), ('sales', np.int64(79645)), ('benzinga', np.int64(74516)), ('pt', np.int64(73068)), ('week', np.int64(69572)), ('announces', np.int64(66591)), ('price', np.int64(64407)), ('buy', np.int64(64371)), ('mid', np.int64(62263)), ('downgrades', np.int64(61959)), ('trading', np.int64(61182)), ('raises', np.int64(57802))]\n"
     ]
    }
   ],
   "source": [
    "from sklearn.feature_extraction.text import CountVectorizer\n",
    "# Get feature names\n",
    "feature_names = vectorizer.get_feature_names_out()\n",
    "\n",
    "# Convert sparse matrix to DataFrame selectively, if needed\n",
    "# For example, to get top N features\n",
    "top_n = 20\n",
    "sum_words = X.sum(axis=0)\n",
    "words_freq = [(word, sum_words[0, idx]) for word, idx in zip(feature_names, range(len(feature_names)))]\n",
    "words_freq = sorted(words_freq, key=lambda x: x[1], reverse=True)[:top_n]\n",
    "print(words_freq)"
   ]
  },
  {
   "cell_type": "markdown",
   "id": "35084438-60f9-4262-92cf-25f7b70f2c27",
   "metadata": {},
   "source": [
    "*Time Series Analysis:\n",
    "\n",
    "Plot the number of articles published over time.\n",
    "Identify any spikes in publication frequency that correlate with market events."
   ]
  },
  {
   "cell_type": "code",
   "execution_count": 8,
   "id": "094c9f26-cab0-4997-b909-1705df071b82",
   "metadata": {},
   "outputs": [
    {
     "name": "stdout",
     "output_type": "stream",
     "text": [
      "['2020-06-05 10:30:54-04:00' '2020-06-03 10:45:20-04:00'\n",
      " '2020-05-26 04:30:07-04:00' ... '2017-12-06 07:04:31-04:00'\n",
      " '2017-11-15 06:04:52-04:00' '2017-11-14 13:25:57-04:00']\n"
     ]
    }
   ],
   "source": [
    "print(analyst_ratings['date'].unique())"
   ]
  },
  {
   "cell_type": "code",
   "execution_count": 10,
   "id": "66fb1247-1835-4c29-9f0f-79e69be5f372",
   "metadata": {},
   "outputs": [
    {
     "name": "stdout",
     "output_type": "stream",
     "text": [
      "count    1.407328e+06\n",
      "mean     7.312051e+01\n",
      "std      4.073531e+01\n",
      "min      3.000000e+00\n",
      "25%      4.700000e+01\n",
      "50%      6.400000e+01\n",
      "75%      8.700000e+01\n",
      "max      5.120000e+02\n",
      "Name: headline_length, dtype: float64\n"
     ]
    }
   ],
   "source": [
    "# Headline Length Stats\n",
    "analyst_ratings['headline_length'] = analyst_ratings['headline'].astype(str).str.len()\n",
    "print(analyst_ratings['headline_length'].describe())\n"
   ]
  },
  {
   "cell_type": "code",
   "execution_count": 11,
   "id": "7f504a1f-3c93-4f35-aaea-4f88a4fc2cbe",
   "metadata": {},
   "outputs": [
    {
     "data": {
      "text/plain": [
       "<Axes: title={'center': 'Articles Published Over Time'}, xlabel='date'>"
      ]
     },
     "execution_count": 11,
     "metadata": {},
     "output_type": "execute_result"
    },
    {
     "data": {
      "image/png": "[encoded data removed]",
      "text/plain": [
       "<Figure size 1200x500 with 1 Axes>"
      ]
     },
     "metadata": {},
     "output_type": "display_data"
    }
   ],
   "source": [
    "# Trend Over Time\n",
    "analyst_ratings['date'] = pd.to_datetime(analyst_ratings['date'], errors='coerce')\n",
    "articles_per_day = analyst_ratings['date'].dt.date.value_counts().sort_index()\n",
    "articles_per_day.plot(title='Articles Published Over Time', figsize=(12, 5))\n"
   ]
  },
  {
   "cell_type": "code",
   "execution_count": 14,
   "id": "8df31920-b928-4df4-9b0f-f854bb6aa59c",
   "metadata": {},
   "outputs": [
    {
     "name": "stderr",
     "output_type": "stream",
     "text": [
      "[nltk_data] Downloading package stopwords to\n",
      "[nltk_data]     C:\\Users\\arsem\\AppData\\Roaming\\nltk_data...\n",
      "[nltk_data]   Package stopwords is already up-to-date!\n"
     ]
    },
    {
     "name": "stdout",
     "output_type": "stream",
     "text": [
      "Topic 1: initiates, 00, update, announces, raises, price, maintains, target, buy, pt\n",
      "Topic 2: sees, q4, q1, q2, q3, sales, reports, eps, est, vs\n",
      "Topic 3: mid, pre, new, moving, session, 52, market, earnings, week, stocks\n",
      "Topic 4: upgrades, update, downgrades, markets, mid, morning, stocks, market, benzinga, top\n",
      "Topic 5: option, earnings, alert, oil, several, lower, companies, higher, trading, shares\n"
     ]
    }
   ],
   "source": [
    "import pandas as pd\n",
    "from sklearn.feature_extraction.text import CountVectorizer\n",
    "from sklearn.decomposition import LatentDirichletAllocation\n",
    "from nltk.corpus import stopwords\n",
    "import nltk\n",
    "\n",
    "# One-time download\n",
    "nltk.download('stopwords')\n",
    "\n",
    "# Step 1: Sample the data (5000 headlines or fewer)\n",
    "sampled_texts = analyst_ratings['headline'].dropna().sample(n=5000, random_state=42)\n",
    "\n",
    "# Step 2: Vectorize with limited vocabulary\n",
    "vectorizer = CountVectorizer(\n",
    "    stop_words=stopwords.words('english'),\n",
    "    max_df=0.95,\n",
    "    min_df=2,\n",
    "    max_features=3000  # reduce vocabulary size\n",
    ")\n",
    "X = vectorizer.fit_transform(sampled_texts)\n",
    "\n",
    "# Step 3: Fit LDA model (fewer topics, multi-core)\n",
    "lda = LatentDirichletAllocation(\n",
    "    n_components=5,\n",
    "    random_state=42,\n",
    "    learning_method='batch',  # or 'online' for larger batches\n",
    "    n_jobs=-1  # use all available CPU cores\n",
    ")\n",
    "lda.fit(X)\n",
    "\n",
    "# Step 4: Display top words in each topic\n",
    "for idx, topic in enumerate(lda.components_):\n",
    "    top_words = [vectorizer.get_feature_names_out()[i] for i in topic.argsort()[-10:]]\n",
    "    print(f\"Topic {idx+1}: {', '.join(top_words)}\")\n"
   ]
  },
  {
   "cell_type": "markdown",
   "id": "f0f96ce6-f1a6-43f2-9eaf-dbd01da9c32d",
   "metadata": {},
   "source": [
    "Topic Interpretations\n",
    "Topic 1: Analyst Actions & Price Targets\n",
    "Keywords: initiates, announces, raises, maintains, price, target, buy, pt\n",
    "\n",
    "Interpretation: News about analysts initiating coverage, updating price targets, or issuing buy ratings.\n",
    "\n",
    "Topic 2: Earnings Reports\n",
    "Keywords: sees, q1, q2, q3, q4, eps, sales, est, vs, reports\n",
    "\n",
    "Interpretation: Quarterly earnings releases and expectations vs. actuals.\n",
    "\n",
    "Topic 3: Market Movement & Technicals\n",
    "Keywords: mid, pre, market, session, 52, stocks, week, moving, earnings\n",
    "\n",
    "Interpretation: Intraday/weekly performance updates, possibly referring to 52-week highs/lows.\n",
    "\n",
    "Topic 4: Upgrades/Downgrades & Market Commentary\n",
    "Keywords: upgrades, downgrades, update, markets, stocks, benzinga, top\n",
    "\n",
    "Interpretation: Summary reports on analyst rating changes and broader market recaps.\n",
    "\n",
    "Topic 5: Trading Alerts & Sectors\n",
    "Keywords: option, earnings, alert, oil, companies, higher, lower, trading, shares\n",
    "\n",
    "Interpretation: Trade alerts, oil/energy stocks, and sector-specific trading commentary.\n",
    "\n"
   ]
  },
  {
   "cell_type": "code",
   "execution_count": 15,
   "id": "f94af712-fb0c-4f24-9870-660475972c55",
   "metadata": {},
   "outputs": [
    {
     "data": {
      "text/plain": [
       "<Axes: title={'center': 'Article Frequency by Hour'}, xlabel='hour'>"
      ]
     },
     "execution_count": 15,
     "metadata": {},
     "output_type": "execute_result"
    },
    {
     "data": {
      "image/png": "[encoded data removed]",
      "text/plain": [
       "<Figure size 1000x400 with 1 Axes>"
      ]
     },
     "metadata": {},
     "output_type": "display_data"
    }
   ],
   "source": [
    "# Publication frequency over time\n",
    "analyst_ratings.set_index('date', inplace=True)\n",
    "analyst_ratings['headline'].resample('D').count().plot(title='Publication Frequency Over Time', figsize=(12, 5))\n",
    "\n",
    "# Time of Day analysis\n",
    "analyst_ratings['hour'] = analyst_ratings.index.hour\n",
    "analyst_ratings['hour'].value_counts().sort_index().plot(kind='bar', title='Article Frequency by Hour', figsize=(10, 4))\n"
   ]
  },
  {
   "cell_type": "markdown",
   "id": "32151c92-c34e-4884-ad1f-4835b9b42618",
   "metadata": {},
   "source": [
    "Publisher Analysis"
   ]
  },
  {
   "cell_type": "code",
   "execution_count": 16,
   "id": "a5dcd8a0-4e7c-4816-b1ee-bb96ac012b84",
   "metadata": {},
   "outputs": [
    {
     "name": "stdout",
     "output_type": "stream",
     "text": [
      "publisher\n",
      "Paul Quintaro        228373\n",
      "Lisa Levin           186979\n",
      "Benzinga Newsdesk    150484\n",
      "Charles Gross         96732\n",
      "Monica Gerson         82380\n",
      "Eddie Staley          57254\n",
      "Hal Lindon            49047\n",
      "ETF Professor         28489\n",
      "Juan Lopez            28438\n",
      "Benzinga Staff        28114\n",
      "Name: count, dtype: int64\n"
     ]
    }
   ],
   "source": [
    "# Top Publishers\n",
    "print(analyst_ratings['publisher'].value_counts().head(10))\n"
   ]
  },
  {
   "cell_type": "code",
   "execution_count": 17,
   "id": "15ed5011-2b45-4151-ae67-1cf3aa4fbda1",
   "metadata": {},
   "outputs": [
    {
     "name": "stdout",
     "output_type": "stream",
     "text": [
      "\n",
      "Paul Quintaro:\n",
      "to         91235\n",
      "vs         74996\n",
      "of         72653\n",
      "eps        56888\n",
      "reports    55225\n",
      "in         33297\n",
      "sales      31046\n",
      "on         31023\n",
      "for        28255\n",
      "from       28230\n",
      "Name: count, dtype: int64\n",
      "\n",
      "Lisa Levin:\n",
      "stocks        68373\n",
      "for           52323\n",
      "in            38137\n",
      "moving        32324\n",
      "session       32324\n",
      "top           31264\n",
      "market        30329\n",
      "biggest       29090\n",
      "benzinga's    28342\n",
      "mid-day       28141\n",
      "Name: count, dtype: int64\n",
      "\n",
      "Benzinga Newsdesk:\n",
      "of         57791\n",
      "the        51106\n",
      "to         49415\n",
      "shares     42366\n",
      "trading    38800\n",
      "are        36950\n",
      "in         32629\n",
      "up         31786\n",
      "for        29988\n",
      "and        28569\n",
      "Name: count, dtype: int64\n",
      "\n",
      "Charles Gross:\n",
      "to        30795\n",
      "of        25819\n",
      "for       18821\n",
      "in        17948\n",
      "vs        16641\n",
      "option    15728\n",
      "alert:    15571\n",
      "on        13071\n",
      "@         11479\n",
      "at         9156\n",
      "Name: count, dtype: int64\n",
      "\n",
      "Monica Gerson:\n",
      "the          30315\n",
      "top          28151\n",
      "for          25132\n",
      "stocks       24765\n",
      "in           19197\n",
      "earnings     18938\n",
      "scheduled    16625\n",
      "with         15286\n",
      "industry     13063\n",
      "4            12969\n",
      "Name: count, dtype: int64\n"
     ]
    }
   ],
   "source": [
    "# Most common words per top publisher\n",
    "top_publishers = analyst_ratings['publisher'].value_counts().head(5).index\n",
    "for pub in top_publishers:\n",
    "    pub_text = analyst_ratings[analyst_ratings['publisher'] == pub]['headline'].dropna().str.cat(sep=' ')\n",
    "    words = pd.Series(pub_text.lower().split())\n",
    "    print(f\"\\n{pub}:\")\n",
    "    print(words.value_counts().head(10))\n"
   ]
  },
  {
   "cell_type": "code",
   "execution_count": 18,
   "id": "0be1cf32-e706-4123-9d9b-fc8e44d0bb16",
   "metadata": {},
   "outputs": [
    {
     "name": "stdout",
     "output_type": "stream",
     "text": [
      "domain\n",
      "benzinga.com              7937\n",
      "gmail.com                  139\n",
      "andyswan.com                 5\n",
      "investdiva.com               2\n",
      "tothetick.com                2\n",
      "eosdetroit.io                1\n",
      "forextraininggroup.com       1\n",
      "stockmetrix.net              1\n",
      "Name: count, dtype: int64\n"
     ]
    }
   ],
   "source": [
    "# Email domain extraction (if publisher is an email)\n",
    "analyst_ratings['domain'] = analyst_ratings['publisher'].str.extract(r'@([\\w\\.-]+)')\n",
    "print(analyst_ratings['domain'].value_counts().head(10))\n"
   ]
  },
  {
   "cell_type": "markdown",
   "id": "e9e5a3d1-fba5-41f2-a7cf-03c12c7351b2",
   "metadata": {},
   "source": [
    "| Publisher         | Article Count |\n",
    "| ----------------- | ------------- |\n",
    "| Paul Quintaro     | 228,373       |\n",
    "| Lisa Levin        | 186,979       |\n",
    "| Benzinga Newsdesk | 150,484       |\n",
    "| Charles Gross     | 96,732        |\n",
    "| Monica Gerson     | 82,380        |\n",
    "| Eddie Staley      | 57,254        |\n",
    "| Hal Lindon        | 49,047        |\n",
    "| ETF Professor     | 28,489        |\n",
    "| Juan Lopez        | 28,438        |\n",
    "| Benzinga Staff    | 28,114        |\n"
   ]
  },
  {
   "cell_type": "code",
   "execution_count": 19,
   "id": "29f3c68c-064a-4c89-b111-908282321264",
   "metadata": {},
   "outputs": [
    {
     "data": {
      "text/plain": [
       "<Axes: title={'center': 'Top 10 Publishers by Article Count'}, ylabel='publisher'>"
      ]
     },
     "execution_count": 19,
     "metadata": {},
     "output_type": "execute_result"
    },
    {
     "data": {
      "image/png": "[encoded data removed]",
      "text/plain": [
       "<Figure size 1000x500 with 1 Axes>"
      ]
     },
     "metadata": {},
     "output_type": "display_data"
    }
   ],
   "source": [
    "top_publishers = analyst_ratings['publisher'].value_counts().head(10)\n",
    "top_publishers.plot(kind='barh', figsize=(10, 5), title='Top 10 Publishers by Article Count')\n"
   ]
  },
  {
   "cell_type": "code",
   "execution_count": null,
   "id": "d966560f-548c-4660-9207-3a858baba218",
   "metadata": {},
   "outputs": [],
   "source": []
  }
 ],
 "metadata": {
  "kernelspec": {
   "display_name": "Python 3 (ipykernel)",
   "language": "python",
   "name": "python3"
  },
  "language_info": {
   "codemirror_mode": {
    "name": "ipython",
    "version": 3
   },
   "file_extension": ".py",
   "mimetype": "text/x-python",
   "name": "python",
   "nbconvert_exporter": "python",
   "pygments_lexer": "ipython3",
   "version": "3.12.4"
  }
 },
 "nbformat": 4,
 "nbformat_minor": 5
}
